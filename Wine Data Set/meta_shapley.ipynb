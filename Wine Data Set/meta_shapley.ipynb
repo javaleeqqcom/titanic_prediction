{
 "cells": [
  {
   "cell_type": "code",
   "execution_count": 2,
   "metadata": {
    "collapsed": true
   },
   "outputs": [],
   "source": [
    "import numpy as np\n",
    "import pandas as pd\n",
    "import matplotlib.pyplot as plt\n",
    "import seaborn as sns\n",
    "import xgboost as XGB\n",
    "from sklearn.metrics import roc_auc_score, precision_recall_curve, roc_curve, average_precision_score\n",
    "from sklearn.model_selection import KFold, train_test_split\n",
    "import gc # 对已经销毁的对象,Python不会自动释放其占据的内存空间。为了能够充分地利用分配的内存,避免程序跑到一半停止,要时不时地进行内存回收\n",
    "import shap\n"
   ]
  },
  {
   "cell_type": "code",
   "execution_count": 3,
   "outputs": [
    {
     "data": {
      "text/plain": "0      1\n1      1\n2      1\n3      1\n4      1\n      ..\n173    3\n174    3\n175    3\n176    3\n177    3\nName: Class, Length: 178, dtype: int32"
     },
     "execution_count": 3,
     "metadata": {},
     "output_type": "execute_result"
    }
   ],
   "source": [
    "feature_list=['Class','Alcohol','Malic acid','Ash','Alcalinity of ash','Magnesium','Total phenols','Flavanoids','Nonflavanoid phenols','Proanthocyanins','Color intensity','Hue','OD280/OD315 of diluted wines','Proline']\n",
    "\n",
    "data = pd.read_csv(\"wine.data\",header=None)\n",
    "data.columns =feature_list\n",
    "data['Class'].astype(dtype=int)"
   ],
   "metadata": {
    "collapsed": false,
    "pycharm": {
     "name": "#%%\n"
    }
   }
  },
  {
   "cell_type": "code",
   "execution_count": 4,
   "outputs": [
    {
     "data": {
      "text/plain": "Class                           False\nAlcohol                         False\nMalic acid                      False\nAsh                             False\nAlcalinity of ash               False\nMagnesium                       False\nTotal phenols                   False\nFlavanoids                      False\nNonflavanoid phenols            False\nProanthocyanins                 False\nColor intensity                 False\nHue                             False\nOD280/OD315 of diluted wines    False\nProline                         False\ndtype: bool"
     },
     "execution_count": 4,
     "metadata": {},
     "output_type": "execute_result"
    }
   ],
   "source": [
    "data.isna().any(axis=0) # 无缺失值"
   ],
   "metadata": {
    "collapsed": false,
    "pycharm": {
     "name": "#%%\n"
    }
   }
  },
  {
   "cell_type": "code",
   "execution_count": 5,
   "outputs": [
    {
     "data": {
      "text/plain": "0"
     },
     "execution_count": 5,
     "metadata": {},
     "output_type": "execute_result"
    }
   ],
   "source": [
    "data.duplicated().sum() # 无重复记录"
   ],
   "metadata": {
    "collapsed": false,
    "pycharm": {
     "name": "#%%\n"
    }
   }
  },
  {
   "cell_type": "code",
   "execution_count": 6,
   "outputs": [
    {
     "data": {
      "text/plain": "Class                             3\nAlcohol                         126\nMalic acid                      133\nAsh                              79\nAlcalinity of ash                63\nMagnesium                        53\nTotal phenols                    97\nFlavanoids                      132\nNonflavanoid phenols             39\nProanthocyanins                 101\nColor intensity                 132\nHue                              78\nOD280/OD315 of diluted wines    122\nProline                         121\ndtype: int64"
     },
     "execution_count": 6,
     "metadata": {},
     "output_type": "execute_result"
    }
   ],
   "source": [
    "data.nunique() # 展示各个特征的取值集合大小\n",
    "\n"
   ],
   "metadata": {
    "collapsed": false,
    "pycharm": {
     "name": "#%%\n"
    }
   }
  },
  {
   "cell_type": "code",
   "execution_count": 17,
   "outputs": [
    {
     "name": "stdout",
     "output_type": "stream",
     "text": [
      "[21:07:44] WARNING: ..\\src\\learner.cc:541: \n",
      "Parameters: { cv } might not be used.\n",
      "\n",
      "  This may not be accurate due to some parameters are only used in language bindings but\n",
      "  passed down to XGBoost core.  Or some parameters are not used but slip through this\n",
      "  verification. Please open an issue if you find above cases.\n",
      "\n",
      "\n",
      "[21:07:44] WARNING: ..\\src\\learner.cc:1061: Starting in XGBoost 1.3.0, the default evaluation metric used with the objective 'multi:softprob' was changed from 'merror' to 'mlogloss'. Explicitly set eval_metric if you'd like to restore the old behavior.\n"
     ]
    },
    {
     "name": "stderr",
     "output_type": "stream",
     "text": [
      "The use of label encoder in XGBClassifier is deprecated and will be removed in a future release. To remove this warning, do the following: 1) Pass option use_label_encoder=False when constructing XGBClassifier object; and 2) Encode your labels (y) as integers starting with 0, i.e. 0, 1, 2, ..., [num_class - 1].\n"
     ]
    },
    {
     "data": {
      "text/plain": "XGBClassifier(base_score=0.5, booster='gbtree', colsample_bylevel=1,\n              colsample_bynode=1, colsample_bytree=1, cv=5, eta=0.3, gamma=0.1,\n              gpu_id=-1, importance_type='gain', interaction_constraints='',\n              learning_rate=0.1, max_delta_step=0, max_depth=5,\n              min_child_weight=1, missing=nan, monotone_constraints='()',\n              n_estimators=50, n_jobs=4, num_parallel_tree=1,\n              objective='multi:softprob', random_state=0, reg_alpha=0,\n              reg_lambda=1, scale_pos_weight=None, subsample=1,\n              tree_method='exact', validate_parameters=1, verbosity=None)"
     },
     "execution_count": 17,
     "metadata": {},
     "output_type": "execute_result"
    }
   ],
   "source": [
    "# 训练XGBoost\n",
    "from sklearn.model_selection import GridSearchCV\n",
    "params={\n",
    "    'eta':0.3,\n",
    "    'gamma':0.1,    # == min_split_loss\n",
    "    'n_estimators':50,\n",
    "    'objective':'multi:softprob',\n",
    "    'max_depth':5,\n",
    "    'learning_rate':0.1,\n",
    "    'cv':5,\n",
    "}\n",
    "clf=XGB.XGBClassifier(**params)\n",
    "x_train, x_test, y_train, y_test = train_test_split(data.drop(['Class',],axis=1), data['Class'], random_state=7349,train_size=0.8)\n",
    "clf.fit(x_train,y_train)"
   ],
   "metadata": {
    "collapsed": false,
    "pycharm": {
     "name": "#%%\n"
    }
   }
  },
  {
   "cell_type": "code",
   "execution_count": 18,
   "outputs": [
    {
     "data": {
      "text/plain": "0.9166666666666666"
     },
     "execution_count": 18,
     "metadata": {},
     "output_type": "execute_result"
    }
   ],
   "source": [
    "clf.score(x_test,y_test)"
   ],
   "metadata": {
    "collapsed": false,
    "pycharm": {
     "name": "#%%\n"
    }
   }
  },
  {
   "cell_type": "code",
   "execution_count": 20,
   "outputs": [],
   "source": [
    "X=data.drop(['Class',],axis=1)\n",
    "y=data['Class']\n",
    "explainer = shap.TreeExplainer(clf)\n",
    "shap_values = explainer.shap_values(X)"
   ],
   "metadata": {
    "collapsed": false,
    "pycharm": {
     "name": "#%%\n"
    }
   }
  },
  {
   "cell_type": "code",
   "execution_count": 49,
   "outputs": [
    {
     "data": {
      "text/plain": "            Class  Alcohol  Malic acid  Ash  Alcalinity of ash  Magnesium  \\\nFlavanoids                                                                  \n0.34            1        1           1    1                  1          1   \n0.47            2        2           2    2                  2          2   \n0.48            1        1           1    1                  1          1   \n0.49            1        1           1    1                  1          1   \n0.50            2        2           2    2                  2          2   \n...           ...      ...         ...  ...                ...        ...   \n3.69            1        1           1    1                  1          1   \n3.74            1        1           1    1                  1          1   \n3.75            1        1           1    1                  1          1   \n3.93            1        1           1    1                  1          1   \n5.08            1        1           1    1                  1          1   \n\n            Total phenols  Nonflavanoid phenols  Proanthocyanins  \\\nFlavanoids                                                         \n0.34                    1                     1                1   \n0.47                    2                     2                2   \n0.48                    1                     1                1   \n0.49                    1                     1                1   \n0.50                    2                     2                2   \n...                   ...                   ...              ...   \n3.69                    1                     1                1   \n3.74                    1                     1                1   \n3.75                    1                     1                1   \n3.93                    1                     1                1   \n5.08                    1                     1                1   \n\n            Color intensity  Hue  OD280/OD315 of diluted wines  Proline  \nFlavanoids                                                               \n0.34                      1    1                             1        1  \n0.47                      2    2                             2        2  \n0.48                      1    1                             1        1  \n0.49                      1    1                             1        1  \n0.50                      2    2                             2        2  \n...                     ...  ...                           ...      ...  \n3.69                      1    1                             1        1  \n3.74                      1    1                             1        1  \n3.75                      1    1                             1        1  \n3.93                      1    1                             1        1  \n5.08                      1    1                             1        1  \n\n[132 rows x 13 columns]",
      "text/html": "<div>\n<style scoped>\n    .dataframe tbody tr th:only-of-type {\n        vertical-align: middle;\n    }\n\n    .dataframe tbody tr th {\n        vertical-align: top;\n    }\n\n    .dataframe thead th {\n        text-align: right;\n    }\n</style>\n<table border=\"1\" class=\"dataframe\">\n  <thead>\n    <tr style=\"text-align: right;\">\n      <th></th>\n      <th>Class</th>\n      <th>Alcohol</th>\n      <th>Malic acid</th>\n      <th>Ash</th>\n      <th>Alcalinity of ash</th>\n      <th>Magnesium</th>\n      <th>Total phenols</th>\n      <th>Nonflavanoid phenols</th>\n      <th>Proanthocyanins</th>\n      <th>Color intensity</th>\n      <th>Hue</th>\n      <th>OD280/OD315 of diluted wines</th>\n      <th>Proline</th>\n    </tr>\n    <tr>\n      <th>Flavanoids</th>\n      <th></th>\n      <th></th>\n      <th></th>\n      <th></th>\n      <th></th>\n      <th></th>\n      <th></th>\n      <th></th>\n      <th></th>\n      <th></th>\n      <th></th>\n      <th></th>\n      <th></th>\n    </tr>\n  </thead>\n  <tbody>\n    <tr>\n      <th>0.34</th>\n      <td>1</td>\n      <td>1</td>\n      <td>1</td>\n      <td>1</td>\n      <td>1</td>\n      <td>1</td>\n      <td>1</td>\n      <td>1</td>\n      <td>1</td>\n      <td>1</td>\n      <td>1</td>\n      <td>1</td>\n      <td>1</td>\n    </tr>\n    <tr>\n      <th>0.47</th>\n      <td>2</td>\n      <td>2</td>\n      <td>2</td>\n      <td>2</td>\n      <td>2</td>\n      <td>2</td>\n      <td>2</td>\n      <td>2</td>\n      <td>2</td>\n      <td>2</td>\n      <td>2</td>\n      <td>2</td>\n      <td>2</td>\n    </tr>\n    <tr>\n      <th>0.48</th>\n      <td>1</td>\n      <td>1</td>\n      <td>1</td>\n      <td>1</td>\n      <td>1</td>\n      <td>1</td>\n      <td>1</td>\n      <td>1</td>\n      <td>1</td>\n      <td>1</td>\n      <td>1</td>\n      <td>1</td>\n      <td>1</td>\n    </tr>\n    <tr>\n      <th>0.49</th>\n      <td>1</td>\n      <td>1</td>\n      <td>1</td>\n      <td>1</td>\n      <td>1</td>\n      <td>1</td>\n      <td>1</td>\n      <td>1</td>\n      <td>1</td>\n      <td>1</td>\n      <td>1</td>\n      <td>1</td>\n      <td>1</td>\n    </tr>\n    <tr>\n      <th>0.50</th>\n      <td>2</td>\n      <td>2</td>\n      <td>2</td>\n      <td>2</td>\n      <td>2</td>\n      <td>2</td>\n      <td>2</td>\n      <td>2</td>\n      <td>2</td>\n      <td>2</td>\n      <td>2</td>\n      <td>2</td>\n      <td>2</td>\n    </tr>\n    <tr>\n      <th>...</th>\n      <td>...</td>\n      <td>...</td>\n      <td>...</td>\n      <td>...</td>\n      <td>...</td>\n      <td>...</td>\n      <td>...</td>\n      <td>...</td>\n      <td>...</td>\n      <td>...</td>\n      <td>...</td>\n      <td>...</td>\n      <td>...</td>\n    </tr>\n    <tr>\n      <th>3.69</th>\n      <td>1</td>\n      <td>1</td>\n      <td>1</td>\n      <td>1</td>\n      <td>1</td>\n      <td>1</td>\n      <td>1</td>\n      <td>1</td>\n      <td>1</td>\n      <td>1</td>\n      <td>1</td>\n      <td>1</td>\n      <td>1</td>\n    </tr>\n    <tr>\n      <th>3.74</th>\n      <td>1</td>\n      <td>1</td>\n      <td>1</td>\n      <td>1</td>\n      <td>1</td>\n      <td>1</td>\n      <td>1</td>\n      <td>1</td>\n      <td>1</td>\n      <td>1</td>\n      <td>1</td>\n      <td>1</td>\n      <td>1</td>\n    </tr>\n    <tr>\n      <th>3.75</th>\n      <td>1</td>\n      <td>1</td>\n      <td>1</td>\n      <td>1</td>\n      <td>1</td>\n      <td>1</td>\n      <td>1</td>\n      <td>1</td>\n      <td>1</td>\n      <td>1</td>\n      <td>1</td>\n      <td>1</td>\n      <td>1</td>\n    </tr>\n    <tr>\n      <th>3.93</th>\n      <td>1</td>\n      <td>1</td>\n      <td>1</td>\n      <td>1</td>\n      <td>1</td>\n      <td>1</td>\n      <td>1</td>\n      <td>1</td>\n      <td>1</td>\n      <td>1</td>\n      <td>1</td>\n      <td>1</td>\n      <td>1</td>\n    </tr>\n    <tr>\n      <th>5.08</th>\n      <td>1</td>\n      <td>1</td>\n      <td>1</td>\n      <td>1</td>\n      <td>1</td>\n      <td>1</td>\n      <td>1</td>\n      <td>1</td>\n      <td>1</td>\n      <td>1</td>\n      <td>1</td>\n      <td>1</td>\n      <td>1</td>\n    </tr>\n  </tbody>\n</table>\n<p>132 rows × 13 columns</p>\n</div>"
     },
     "execution_count": 49,
     "metadata": {},
     "output_type": "execute_result"
    }
   ],
   "source": [
    "shap_fea='Flavanoids'\n",
    "shap_c1=pd.DataFrame(shap_values[0],columns=X.columns,index=X.index)\n",
    "data.groupby(shap_fea).count()\n",
    "# shap_fea_id=list(X.columns).index(shap_fea)"
   ],
   "metadata": {
    "collapsed": false,
    "pycharm": {
     "name": "#%%\n"
    }
   }
  },
  {
   "cell_type": "code",
   "execution_count": 53,
   "outputs": [],
   "source": [
    "# 以 shap_fea 每一定区间聚合在一起做shapley meta分析\n",
    "step=0.25\n",
    "f_min=np.floor(data[shap_fea].min()/step)*step\n",
    "f_max=np.ceil(data[shap_fea].max()/step)*step\n",
    "out_matrix=[]\n",
    "for i in range(int(1+(f_max-f_min)/step)):\n",
    "    low=f_min+i*step\n",
    "    idx=X[shap_fea].map(lambda x:low<=x<low+step)\n",
    "    if idx.any():\n",
    "        out_matrix.append([\n",
    "            round(low+step/2,2),\n",
    "            np.average(shap_c1[shap_fea].loc[idx]),\n",
    "            np.average(np.abs(shap_c1[shap_fea].loc[idx])),\n",
    "        ])\n",
    "\n",
    "val_shap=pd.DataFrame(out_matrix,columns=['val','mean','abs_mean'],index=range(len(out_matrix)))"
   ],
   "metadata": {
    "collapsed": false,
    "pycharm": {
     "name": "#%%\n"
    }
   }
  },
  {
   "cell_type": "code",
   "execution_count": 56,
   "outputs": [
    {
     "data": {
      "text/plain": "     val      mean  abs_mean\n0   0.38 -0.765092  0.765092\n1   0.62 -1.117275  1.117275\n2   0.88 -1.005772  1.005772\n3   1.12 -1.007725  1.007725\n4   1.38 -0.822034  0.822034\n5   1.62 -0.768010  0.768010\n6   1.88 -0.842727  0.842727\n7   2.12 -0.817839  0.817839\n8   2.38 -0.175853  0.430114\n9   2.62  0.291674  0.291674\n10  2.88  0.335927  0.335927\n11  3.12  0.332125  0.332125\n12  3.38  0.387546  0.387546\n13  3.62  0.385985  0.385985\n14  3.88  0.270785  0.270785\n15  5.12  0.154569  0.154569",
      "text/html": "<div>\n<style scoped>\n    .dataframe tbody tr th:only-of-type {\n        vertical-align: middle;\n    }\n\n    .dataframe tbody tr th {\n        vertical-align: top;\n    }\n\n    .dataframe thead th {\n        text-align: right;\n    }\n</style>\n<table border=\"1\" class=\"dataframe\">\n  <thead>\n    <tr style=\"text-align: right;\">\n      <th></th>\n      <th>val</th>\n      <th>mean</th>\n      <th>abs_mean</th>\n    </tr>\n  </thead>\n  <tbody>\n    <tr>\n      <th>0</th>\n      <td>0.38</td>\n      <td>-0.765092</td>\n      <td>0.765092</td>\n    </tr>\n    <tr>\n      <th>1</th>\n      <td>0.62</td>\n      <td>-1.117275</td>\n      <td>1.117275</td>\n    </tr>\n    <tr>\n      <th>2</th>\n      <td>0.88</td>\n      <td>-1.005772</td>\n      <td>1.005772</td>\n    </tr>\n    <tr>\n      <th>3</th>\n      <td>1.12</td>\n      <td>-1.007725</td>\n      <td>1.007725</td>\n    </tr>\n    <tr>\n      <th>4</th>\n      <td>1.38</td>\n      <td>-0.822034</td>\n      <td>0.822034</td>\n    </tr>\n    <tr>\n      <th>5</th>\n      <td>1.62</td>\n      <td>-0.768010</td>\n      <td>0.768010</td>\n    </tr>\n    <tr>\n      <th>6</th>\n      <td>1.88</td>\n      <td>-0.842727</td>\n      <td>0.842727</td>\n    </tr>\n    <tr>\n      <th>7</th>\n      <td>2.12</td>\n      <td>-0.817839</td>\n      <td>0.817839</td>\n    </tr>\n    <tr>\n      <th>8</th>\n      <td>2.38</td>\n      <td>-0.175853</td>\n      <td>0.430114</td>\n    </tr>\n    <tr>\n      <th>9</th>\n      <td>2.62</td>\n      <td>0.291674</td>\n      <td>0.291674</td>\n    </tr>\n    <tr>\n      <th>10</th>\n      <td>2.88</td>\n      <td>0.335927</td>\n      <td>0.335927</td>\n    </tr>\n    <tr>\n      <th>11</th>\n      <td>3.12</td>\n      <td>0.332125</td>\n      <td>0.332125</td>\n    </tr>\n    <tr>\n      <th>12</th>\n      <td>3.38</td>\n      <td>0.387546</td>\n      <td>0.387546</td>\n    </tr>\n    <tr>\n      <th>13</th>\n      <td>3.62</td>\n      <td>0.385985</td>\n      <td>0.385985</td>\n    </tr>\n    <tr>\n      <th>14</th>\n      <td>3.88</td>\n      <td>0.270785</td>\n      <td>0.270785</td>\n    </tr>\n    <tr>\n      <th>15</th>\n      <td>5.12</td>\n      <td>0.154569</td>\n      <td>0.154569</td>\n    </tr>\n  </tbody>\n</table>\n</div>"
     },
     "execution_count": 56,
     "metadata": {},
     "output_type": "execute_result"
    }
   ],
   "source": [
    "val_shap"
   ],
   "metadata": {
    "collapsed": false,
    "pycharm": {
     "name": "#%%\n"
    }
   }
  },
  {
   "cell_type": "code",
   "execution_count": 61,
   "outputs": [
    {
     "data": {
      "text/plain": "Text(0, 0.5, 'mean_shap')"
     },
     "execution_count": 61,
     "metadata": {},
     "output_type": "execute_result"
    },
    {
     "data": {
      "text/plain": "<Figure size 432x288 with 1 Axes>",
      "image/png": "[encoded data removed]"
     },
     "metadata": {
      "needs_background": "light"
     },
     "output_type": "display_data"
    }
   ],
   "source": [
    "x=list(val_shap['val'])\n",
    "y_m=list(val_shap['mean'])\n",
    "y_am=list(val_shap['abs_mean'])\n",
    "plt.plot(x,y_m,'-*b')\n",
    "plt.xlabel(shap_fea)\n",
    "plt.ylabel(\"mean_shap\")"
   ],
   "metadata": {
    "collapsed": false,
    "pycharm": {
     "name": "#%%\n"
    }
   }
  }
 ],
 "metadata": {
  "kernelspec": {
   "display_name": "Python 3",
   "language": "python",
   "name": "python3"
  },
  "language_info": {
   "codemirror_mode": {
    "name": "ipython",
    "version": 2
   },
   "file_extension": ".py",
   "mimetype": "text/x-python",
   "name": "python",
   "nbconvert_exporter": "python",
   "pygments_lexer": "ipython2",
   "version": "2.7.6"
  }
 },
 "nbformat": 4,
 "nbformat_minor": 0
}